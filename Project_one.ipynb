{
 "cells": [
  {
   "cell_type": "markdown",
   "metadata": {},
   "source": [
    "## M2 - WEEK 5 | PROJECT\n",
    "### Luke Barry"
   ]
  },
  {
   "cell_type": "markdown",
   "metadata": {},
   "source": [
    "Being from Edmonton, Alberta, Canada, I am a big fam of the NHL team the Edmonton Oilers. The Oilers were once an amazing team and left our mark on the NHL in the during our \"dynasty\" era, winning the stanley cup in 1984, 1985, 1987, 1988 and 1990, thanks to Wayne Gretzky, the best player to put on a pair of skates. We have not won a cup since then, however, but the team has given its fans hope recently by acquiring a player who many see as the next Gretzky - Connor Macdavid. The Oilers have yet to see results, however, and speculators are calling for the team to restructure itself to be less focused on the superstar player. A general consensus from oilers speculators usually focuses on the need for better goaltending and better play-makers on defence.\n",
    "\n",
    "This project will use data from the kaggle website to find the best goaltenders and defencemen based on stats that would be useful for the Oilers. Since the Oilers already thrive in penelty kill and powerplay situations, Goalies with strong even strength play will be given priority. The data sets gather performance stats from players and goalies in all games played in the last 6 years."
   ]
  },
  {
   "cell_type": "code",
   "execution_count": 1,
   "metadata": {},
   "outputs": [],
   "source": [
    "import pandas as pd\n",
    "import numpy as np\n",
    "import matplotlib.pyplot as plt\n",
    "import seaborn as sns\n",
    "import matplotlib.ticker as ticker"
   ]
  },
  {
   "cell_type": "markdown",
   "metadata": {},
   "source": [
    "The data is seperated into stats for skaters, stats for goalies, and information on those players/goalies, such as what team they play for, their name, age, etc."
   ]
  },
  {
   "cell_type": "code",
   "execution_count": 2,
   "metadata": {},
   "outputs": [],
   "source": [
    "#pi = Player Info\n",
    "#gd = Goalie Data\n",
    "#sd = Skater Data\n",
    "\n",
    "pi = pd.read_csv('player_info.csv')\n",
    "gd = pd.read_csv('game_goalie_stats.csv')\n",
    "sd = pd.read_csv('game_skater_stats.csv')"
   ]
  },
  {
   "cell_type": "markdown",
   "metadata": {},
   "source": [
    "### Goalie Data"
   ]
  },
  {
   "cell_type": "code",
   "execution_count": 3,
   "metadata": {},
   "outputs": [
    {
     "data": {
      "text/plain": [
       "game_id                         int64\n",
       "player_id                       int64\n",
       "team_id                         int64\n",
       "timeOnIce                       int64\n",
       "assists                         int64\n",
       "goals                           int64\n",
       "pim                             int64\n",
       "shots                           int64\n",
       "saves                           int64\n",
       "powerPlaySaves                  int64\n",
       "shortHandedSaves                int64\n",
       "evenSaves                       int64\n",
       "shortHandedShotsAgainst         int64\n",
       "evenShotsAgainst                int64\n",
       "powerPlayShotsAgainst           int64\n",
       "decision                       object\n",
       "savePercentage                float64\n",
       "powerPlaySavePercentage       float64\n",
       "evenStrengthSavePercentage    float64\n",
       "dtype: object"
      ]
     },
     "execution_count": 3,
     "metadata": {},
     "output_type": "execute_result"
    }
   ],
   "source": [
    "#Ensuring all data is in usable types.\n",
    "gd.dtypes"
   ]
  },
  {
   "cell_type": "code",
   "execution_count": 4,
   "metadata": {},
   "outputs": [
    {
     "data": {
      "text/plain": [
       "(56656, 19)"
      ]
     },
     "execution_count": 4,
     "metadata": {},
     "output_type": "execute_result"
    }
   ],
   "source": [
    "gd.shape"
   ]
  },
  {
   "cell_type": "markdown",
   "metadata": {},
   "source": [
    "Since the dataset consists many different games from different goalies, it is neccessary to average the stats out over for each player including every game they played. This brings our total down to 368 goalies as opposed to 56,656 games."
   ]
  },
  {
   "cell_type": "code",
   "execution_count": 5,
   "metadata": {},
   "outputs": [
    {
     "data": {
      "text/plain": [
       "(368, 18)"
      ]
     },
     "execution_count": 5,
     "metadata": {},
     "output_type": "execute_result"
    }
   ],
   "source": [
    "goalies = gd.groupby('player_id').mean().reset_index()\n",
    "goalies.shape"
   ]
  },
  {
   "cell_type": "markdown",
   "metadata": {},
   "source": [
    "Since the Oilers have particularly strong powerplays and penelty kills, it would be benficial to find a goalie who is particularly strong in even strength scenarios.\n",
    "\n",
    "The following code narrows down the dataframe to only those goalies with an average save percentage during even strength play that is higher than 85%, as well as an average of over 25 saves per game and average of 3500 min of ice time to ensure the data doesn't include back up goalies with a high save percentage due to only playing a few easy games. This narrows our Data down to 9 of the most suitable goal-tenders and excludes unnecessary cloumns."
   ]
  },
  {
   "cell_type": "code",
   "execution_count": 6,
   "metadata": {},
   "outputs": [
    {
     "data": {
      "text/plain": [
       "(9, 4)"
      ]
     },
     "execution_count": 6,
     "metadata": {},
     "output_type": "execute_result"
    }
   ],
   "source": [
    "goalies_neat = goalies[['player_id','evenStrengthSavePercentage','evenSaves',\"timeOnIce\"]]\n",
    "a = goalies_neat['evenStrengthSavePercentage'] >= 85\n",
    "b = goalies_neat[a]\n",
    "c = b['evenSaves'] > 25\n",
    "d = b[c]\n",
    "e = d[\"timeOnIce\"] > 3500\n",
    "good_goalies = d[e]\n",
    "good_goalies.shape"
   ]
  },
  {
   "cell_type": "code",
   "execution_count": 7,
   "metadata": {},
   "outputs": [
    {
     "data": {
      "image/png": "[encoded data removed]",
      "text/plain": [
       "<Figure size 375.125x288 with 1 Axes>"
      ]
     },
     "metadata": {
      "needs_background": "light"
     },
     "output_type": "display_data"
    }
   ],
   "source": [
    "even_plot = sns.relplot(x=\"evenSaves\", y=\"evenStrengthSavePercentage\", hue=\"player_id\", size=\"timeOnIce\",\n",
    "            sizes=(300, 600), alpha=.8, palette=\"muted\", legend = 'brief',\n",
    "            height=4, data=good_goalies)\n",
    "even_plot.set(xlabel='Saves - Even Strength', ylabel='Save Percentage - Even Strength')\n",
    "plt.title('Even Strength Stats')\n",
    "plt.show()"
   ]
  },
  {
   "cell_type": "markdown",
   "metadata": {},
   "source": [
    "This data will compare the data of the top even strength performers and include powerplays and penelty kill to ensure none of the top performers choke under the pressure of the penelty kill or are letting in unnecessary goals on the powerplay. The data reveals goalie number 8459028 to be the clear choice."
   ]
  },
  {
   "cell_type": "code",
   "execution_count": 8,
   "metadata": {},
   "outputs": [
    {
     "data": {
      "text/html": [
       "<div>\n",
       "<style scoped>\n",
       "    .dataframe tbody tr th:only-of-type {\n",
       "        vertical-align: middle;\n",
       "    }\n",
       "\n",
       "    .dataframe tbody tr th {\n",
       "        vertical-align: top;\n",
       "    }\n",
       "\n",
       "    .dataframe thead th {\n",
       "        text-align: right;\n",
       "    }\n",
       "</style>\n",
       "<table border=\"1\" class=\"dataframe\">\n",
       "  <thead>\n",
       "    <tr style=\"text-align: right;\">\n",
       "      <th></th>\n",
       "      <th>player_id</th>\n",
       "      <th>savePercentage</th>\n",
       "      <th>saves</th>\n",
       "      <th>timeOnIce</th>\n",
       "    </tr>\n",
       "  </thead>\n",
       "  <tbody>\n",
       "    <tr>\n",
       "      <th>40</th>\n",
       "      <td>8459028</td>\n",
       "      <td>94.761905</td>\n",
       "      <td>27.500000</td>\n",
       "      <td>3737.000000</td>\n",
       "    </tr>\n",
       "    <tr>\n",
       "      <th>134</th>\n",
       "      <td>8468685</td>\n",
       "      <td>91.125365</td>\n",
       "      <td>26.707635</td>\n",
       "      <td>3504.739292</td>\n",
       "    </tr>\n",
       "    <tr>\n",
       "      <th>172</th>\n",
       "      <td>8470645</td>\n",
       "      <td>91.021338</td>\n",
       "      <td>26.822388</td>\n",
       "      <td>3509.767164</td>\n",
       "    </tr>\n",
       "    <tr>\n",
       "      <th>197</th>\n",
       "      <td>8471679</td>\n",
       "      <td>91.246921</td>\n",
       "      <td>27.264434</td>\n",
       "      <td>3551.385681</td>\n",
       "    </tr>\n",
       "    <tr>\n",
       "      <th>301</th>\n",
       "      <td>8476883</td>\n",
       "      <td>91.413672</td>\n",
       "      <td>27.779476</td>\n",
       "      <td>3526.980349</td>\n",
       "    </tr>\n",
       "  </tbody>\n",
       "</table>\n",
       "</div>"
      ],
      "text/plain": [
       "     player_id  savePercentage      saves    timeOnIce\n",
       "40     8459028       94.761905  27.500000  3737.000000\n",
       "134    8468685       91.125365  26.707635  3504.739292\n",
       "172    8470645       91.021338  26.822388  3509.767164\n",
       "197    8471679       91.246921  27.264434  3551.385681\n",
       "301    8476883       91.413672  27.779476  3526.980349"
      ]
     },
     "execution_count": 8,
     "metadata": {},
     "output_type": "execute_result"
    }
   ],
   "source": [
    "a = goalies['savePercentage'] >= 91\n",
    "b = goalies[a]\n",
    "c = b['saves'] > 25\n",
    "d = b[c]\n",
    "e = d[\"timeOnIce\"] > 3500\n",
    "final_cut_goalies = d[e]\n",
    "fcg = final_cut_goalies[['player_id','savePercentage','saves','timeOnIce']]\n",
    "fcg['savePercentage'] == sorted\n",
    "fcg.head(5)"
   ]
  },
  {
   "cell_type": "code",
   "execution_count": 9,
   "metadata": {},
   "outputs": [
    {
     "data": {
      "image/png": "[encoded data removed]",
      "text/plain": [
       "<Figure size 375.125x288 with 1 Axes>"
      ]
     },
     "metadata": {
      "needs_background": "light"
     },
     "output_type": "display_data"
    }
   ],
   "source": [
    "overall_plot = sns.relplot(x=\"saves\", y=\"savePercentage\", hue=\"player_id\", size=\"timeOnIce\",\n",
    "            sizes=(300, 600), alpha=.8, palette=\"muted\", legend = 'brief',\n",
    "            height=4, data=fcg)\n",
    "overall_plot.set(xlabel='Saves - Overall', ylabel='Save Percentage - Overall')\n",
    "plt.title('All Stats')\n",
    "plt.show()"
   ]
  },
  {
   "cell_type": "code",
   "execution_count": 10,
   "metadata": {},
   "outputs": [
    {
     "data": {
      "image/png": "[encoded data removed]",
      "text/plain": [
       "<Figure size 432x288 with 1 Axes>"
      ]
     },
     "metadata": {
      "needs_background": "light"
     },
     "output_type": "display_data"
    }
   ],
   "source": [
    "#pp (Percentage Plot)\n",
    "\n",
    "pp = sns.barplot(x='player_id', y='savePercentage', data=fcg)\n",
    "pp.yaxis.set_major_locator(ticker.MultipleLocator(1))\n",
    "pp.yaxis.set_major_formatter(ticker.ScalarFormatter())\n",
    "pp.set(xlabel='Goalie ID', ylabel='Save Percentage')\n",
    "pp.set(ylim=(87, 97))\n",
    "plt.title('Save Percentage Final Choices')\n",
    "plt.show()"
   ]
  },
  {
   "cell_type": "markdown",
   "metadata": {},
   "source": [
    "Further information can be found in the 'player_info' data set."
   ]
  },
  {
   "cell_type": "code",
   "execution_count": 11,
   "metadata": {},
   "outputs": [
    {
     "name": "stdout",
     "output_type": "stream",
     "text": [
      "player_id    8459028\n",
      "firstName       Marc\n",
      "lastName     Lamothe\n",
      "Name: 3211, dtype: object\n"
     ]
    }
   ],
   "source": [
    "goalie_choice = pi.iloc[3211 , :3]\n",
    "print(goalie_choice)"
   ]
  },
  {
   "cell_type": "markdown",
   "metadata": {},
   "source": [
    "## Defence Data\n",
    "\n",
    "Since the data on what position the skaters play is located in the 'player_info' data and their performance is in the 'game_skater_stats' data, it is necessary to join the two data sets. The data is also given as all the games over the last 6 years played by the players so the data must be averaged to show the players average stats over those games."
   ]
  },
  {
   "cell_type": "code",
   "execution_count": 12,
   "metadata": {},
   "outputs": [
    {
     "data": {
      "text/html": [
       "<div>\n",
       "<style scoped>\n",
       "    .dataframe tbody tr th:only-of-type {\n",
       "        vertical-align: middle;\n",
       "    }\n",
       "\n",
       "    .dataframe tbody tr th {\n",
       "        vertical-align: top;\n",
       "    }\n",
       "\n",
       "    .dataframe thead th {\n",
       "        text-align: right;\n",
       "    }\n",
       "</style>\n",
       "<table border=\"1\" class=\"dataframe\">\n",
       "  <thead>\n",
       "    <tr style=\"text-align: right;\">\n",
       "      <th></th>\n",
       "      <th>player_id</th>\n",
       "      <th>game_id</th>\n",
       "      <th>team_id</th>\n",
       "      <th>timeOnIce</th>\n",
       "      <th>assists</th>\n",
       "      <th>goals</th>\n",
       "      <th>shots</th>\n",
       "      <th>hits</th>\n",
       "      <th>powerPlayGoals</th>\n",
       "      <th>powerPlayAssists</th>\n",
       "      <th>...</th>\n",
       "      <th>lastName</th>\n",
       "      <th>nationality</th>\n",
       "      <th>birthCity</th>\n",
       "      <th>primaryPosition</th>\n",
       "      <th>birthDate</th>\n",
       "      <th>birthStateProvince</th>\n",
       "      <th>height</th>\n",
       "      <th>height_cm</th>\n",
       "      <th>weight</th>\n",
       "      <th>shootsCatches</th>\n",
       "    </tr>\n",
       "  </thead>\n",
       "  <tbody>\n",
       "    <tr>\n",
       "      <th>0</th>\n",
       "      <td>8444894</td>\n",
       "      <td>2.000021e+09</td>\n",
       "      <td>13.000000</td>\n",
       "      <td>863.433333</td>\n",
       "      <td>0.200000</td>\n",
       "      <td>0.183333</td>\n",
       "      <td>1.100000</td>\n",
       "      <td>NaN</td>\n",
       "      <td>0.033333</td>\n",
       "      <td>0.000000</td>\n",
       "      <td>...</td>\n",
       "      <td>Adams</td>\n",
       "      <td>CAN</td>\n",
       "      <td>Nelson</td>\n",
       "      <td>LW</td>\n",
       "      <td>1963-08-15 01:00:00</td>\n",
       "      <td>BC</td>\n",
       "      <td>6' 4\"</td>\n",
       "      <td>193.04</td>\n",
       "      <td>196.0</td>\n",
       "      <td>L</td>\n",
       "    </tr>\n",
       "    <tr>\n",
       "      <th>1</th>\n",
       "      <td>8444919</td>\n",
       "      <td>2.001834e+09</td>\n",
       "      <td>7.199153</td>\n",
       "      <td>986.991525</td>\n",
       "      <td>0.156780</td>\n",
       "      <td>0.016949</td>\n",
       "      <td>0.737288</td>\n",
       "      <td>NaN</td>\n",
       "      <td>0.004237</td>\n",
       "      <td>0.055085</td>\n",
       "      <td>...</td>\n",
       "      <td>Albelin</td>\n",
       "      <td>SWE</td>\n",
       "      <td>Stockholm</td>\n",
       "      <td>D</td>\n",
       "      <td>1964-05-21 01:00:00</td>\n",
       "      <td>NaN</td>\n",
       "      <td>6' 2\"</td>\n",
       "      <td>187.96</td>\n",
       "      <td>195.0</td>\n",
       "      <td>L</td>\n",
       "    </tr>\n",
       "    <tr>\n",
       "      <th>2</th>\n",
       "      <td>8445000</td>\n",
       "      <td>2.001958e+09</td>\n",
       "      <td>12.528409</td>\n",
       "      <td>914.855114</td>\n",
       "      <td>0.210227</td>\n",
       "      <td>0.250000</td>\n",
       "      <td>1.977273</td>\n",
       "      <td>NaN</td>\n",
       "      <td>0.130682</td>\n",
       "      <td>0.122159</td>\n",
       "      <td>...</td>\n",
       "      <td>Andreychuk</td>\n",
       "      <td>CAN</td>\n",
       "      <td>Hamilton</td>\n",
       "      <td>LW</td>\n",
       "      <td>1963-09-29 01:00:00</td>\n",
       "      <td>ON</td>\n",
       "      <td>6' 4\"</td>\n",
       "      <td>193.04</td>\n",
       "      <td>225.0</td>\n",
       "      <td>R</td>\n",
       "    </tr>\n",
       "    <tr>\n",
       "      <th>3</th>\n",
       "      <td>8445176</td>\n",
       "      <td>2.001394e+09</td>\n",
       "      <td>11.084112</td>\n",
       "      <td>1004.275701</td>\n",
       "      <td>0.383178</td>\n",
       "      <td>0.275701</td>\n",
       "      <td>2.485981</td>\n",
       "      <td>NaN</td>\n",
       "      <td>0.121495</td>\n",
       "      <td>0.168224</td>\n",
       "      <td>...</td>\n",
       "      <td>Audette</td>\n",
       "      <td>CAN</td>\n",
       "      <td>Laval</td>\n",
       "      <td>RW</td>\n",
       "      <td>1969-09-23 01:00:00</td>\n",
       "      <td>QC</td>\n",
       "      <td>5' 8\"</td>\n",
       "      <td>172.72</td>\n",
       "      <td>191.0</td>\n",
       "      <td>R</td>\n",
       "    </tr>\n",
       "    <tr>\n",
       "      <th>4</th>\n",
       "      <td>8445266</td>\n",
       "      <td>2.001539e+09</td>\n",
       "      <td>21.936877</td>\n",
       "      <td>1094.445183</td>\n",
       "      <td>0.076412</td>\n",
       "      <td>0.023256</td>\n",
       "      <td>0.614618</td>\n",
       "      <td>NaN</td>\n",
       "      <td>0.000000</td>\n",
       "      <td>0.000000</td>\n",
       "      <td>...</td>\n",
       "      <td>Baron</td>\n",
       "      <td>CAN</td>\n",
       "      <td>Prince George</td>\n",
       "      <td>D</td>\n",
       "      <td>1967-06-01 01:00:00</td>\n",
       "      <td>BC</td>\n",
       "      <td>6' 3\"</td>\n",
       "      <td>190.50</td>\n",
       "      <td>236.0</td>\n",
       "      <td>L</td>\n",
       "    </tr>\n",
       "  </tbody>\n",
       "</table>\n",
       "<p>5 rows × 33 columns</p>\n",
       "</div>"
      ],
      "text/plain": [
       "   player_id       game_id    team_id    timeOnIce   assists     goals  \\\n",
       "0    8444894  2.000021e+09  13.000000   863.433333  0.200000  0.183333   \n",
       "1    8444919  2.001834e+09   7.199153   986.991525  0.156780  0.016949   \n",
       "2    8445000  2.001958e+09  12.528409   914.855114  0.210227  0.250000   \n",
       "3    8445176  2.001394e+09  11.084112  1004.275701  0.383178  0.275701   \n",
       "4    8445266  2.001539e+09  21.936877  1094.445183  0.076412  0.023256   \n",
       "\n",
       "      shots  hits  powerPlayGoals  powerPlayAssists  ...    lastName  \\\n",
       "0  1.100000   NaN        0.033333          0.000000  ...       Adams   \n",
       "1  0.737288   NaN        0.004237          0.055085  ...     Albelin   \n",
       "2  1.977273   NaN        0.130682          0.122159  ...  Andreychuk   \n",
       "3  2.485981   NaN        0.121495          0.168224  ...     Audette   \n",
       "4  0.614618   NaN        0.000000          0.000000  ...       Baron   \n",
       "\n",
       "   nationality      birthCity  primaryPosition            birthDate  \\\n",
       "0          CAN         Nelson               LW  1963-08-15 01:00:00   \n",
       "1          SWE      Stockholm                D  1964-05-21 01:00:00   \n",
       "2          CAN       Hamilton               LW  1963-09-29 01:00:00   \n",
       "3          CAN          Laval               RW  1969-09-23 01:00:00   \n",
       "4          CAN  Prince George                D  1967-06-01 01:00:00   \n",
       "\n",
       "   birthStateProvince  height  height_cm  weight  shootsCatches  \n",
       "0                  BC   6' 4\"     193.04   196.0              L  \n",
       "1                 NaN   6' 2\"     187.96   195.0              L  \n",
       "2                  ON   6' 4\"     193.04   225.0              R  \n",
       "3                  QC   5' 8\"     172.72   191.0              R  \n",
       "4                  BC   6' 3\"     190.50   236.0              L  \n",
       "\n",
       "[5 rows x 33 columns]"
      ]
     },
     "execution_count": 12,
     "metadata": {},
     "output_type": "execute_result"
    }
   ],
   "source": [
    "players = sd.groupby('player_id').mean().reset_index()\n",
    "joined_data = players.join(pi.set_index('player_id'), on='player_id')\n",
    "joined_data.head()"
   ]
  },
  {
   "cell_type": "code",
   "execution_count": 13,
   "metadata": {},
   "outputs": [
    {
     "data": {
      "text/plain": [
       "(3353, 33)"
      ]
     },
     "execution_count": 13,
     "metadata": {},
     "output_type": "execute_result"
    }
   ],
   "source": [
    "joined_data.shape"
   ]
  },
  {
   "cell_type": "markdown",
   "metadata": {},
   "source": [
    "The Oilers need a playmaker. Some key stats that suggest good play makers are assists, takeaway, and, to a lesser extent for defensemen, goals. I have gotten rid of all other unneccessary columns."
   ]
  },
  {
   "cell_type": "code",
   "execution_count": 14,
   "metadata": {},
   "outputs": [
    {
     "data": {
      "text/plain": [
       "(3353, 6)"
      ]
     },
     "execution_count": 14,
     "metadata": {},
     "output_type": "execute_result"
    }
   ],
   "source": [
    "wanted_stats = joined_data[['player_id', 'assists', 'goals', 'shots', 'primaryPosition', 'takeaways']]\n",
    "wanted_stats.shape"
   ]
  },
  {
   "cell_type": "markdown",
   "metadata": {},
   "source": [
    "Below gets rid of the other positions other than defence included in the data."
   ]
  },
  {
   "cell_type": "code",
   "execution_count": 15,
   "metadata": {},
   "outputs": [
    {
     "data": {
      "text/plain": [
       "(1138, 6)"
      ]
     },
     "execution_count": 15,
     "metadata": {},
     "output_type": "execute_result"
    }
   ],
   "source": [
    "x = wanted_stats['primaryPosition'] == 'D'\n",
    "defence = wanted_stats[x]\n",
    "defence.shape"
   ]
  },
  {
   "cell_type": "markdown",
   "metadata": {},
   "source": [
    "Below filters the data based on the top performers according to assists and shots. Takeaways and goals were too limiting but will be compared in the following graphs."
   ]
  },
  {
   "cell_type": "code",
   "execution_count": 16,
   "metadata": {},
   "outputs": [
    {
     "data": {
      "text/plain": [
       "(8, 6)"
      ]
     },
     "execution_count": 16,
     "metadata": {},
     "output_type": "execute_result"
    }
   ],
   "source": [
    "c = defence['assists'] >= 0.6\n",
    "d = defence[c]\n",
    "e = d[\"shots\"] >= 0.8\n",
    "play_makers = d[e]\n",
    "play_makers.shape"
   ]
  },
  {
   "cell_type": "code",
   "execution_count": 17,
   "metadata": {},
   "outputs": [
    {
     "data": {
      "image/png": "[encoded data removed]",
      "text/plain": [
       "<Figure size 369.625x288 with 1 Axes>"
      ]
     },
     "metadata": {
      "needs_background": "light"
     },
     "output_type": "display_data"
    }
   ],
   "source": [
    "sns.relplot(x=\"shots\", y=\"assists\", hue=\"player_id\", size=\"goals\",\n",
    "            sizes=(300, 600), alpha=.5, palette=\"Paired\", legend = 'brief',\n",
    "            height=4, data=play_makers)\n",
    "plt.title(\"Stats Comparison w/Shots\")\n",
    "plt.show()"
   ]
  },
  {
   "cell_type": "code",
   "execution_count": 18,
   "metadata": {},
   "outputs": [
    {
     "data": {
      "image/png": "[encoded data removed]",
      "text/plain": [
       "<Figure size 369.625x288 with 1 Axes>"
      ]
     },
     "metadata": {
      "needs_background": "light"
     },
     "output_type": "display_data"
    }
   ],
   "source": [
    "sns.relplot(x=\"takeaways\", y=\"assists\", hue=\"player_id\", size='goals',\n",
    "            sizes=(300, 600), alpha=.8, palette=\"Paired\", legend = 'brief',\n",
    "            height=4, data=play_makers)\n",
    "plt.title(\"Stats Comparison w/Takeaways\")\n",
    "plt.show()"
   ]
  },
  {
   "cell_type": "markdown",
   "metadata": {},
   "source": [
    "Narrowing down the data to top 3 performers according to previouisly analyzed stats who have at least an average of at least 1 assist/game"
   ]
  },
  {
   "cell_type": "code",
   "execution_count": 19,
   "metadata": {},
   "outputs": [
    {
     "data": {
      "text/plain": [
       "(3, 6)"
      ]
     },
     "execution_count": 19,
     "metadata": {},
     "output_type": "execute_result"
    }
   ],
   "source": [
    "a = play_makers['assists'] >= 1\n",
    "pm = play_makers[a]\n",
    "pm.shape"
   ]
  },
  {
   "cell_type": "markdown",
   "metadata": {},
   "source": [
    "Our final bar graph reveals one obvious choice as out of all the defencemen with an average of 1 assist per game, one is averaging a much larger amount of takeaways than the other candidates."
   ]
  },
  {
   "cell_type": "code",
   "execution_count": 20,
   "metadata": {},
   "outputs": [
    {
     "data": {
      "text/html": [
       "<div>\n",
       "<style scoped>\n",
       "    .dataframe tbody tr th:only-of-type {\n",
       "        vertical-align: middle;\n",
       "    }\n",
       "\n",
       "    .dataframe tbody tr th {\n",
       "        vertical-align: top;\n",
       "    }\n",
       "\n",
       "    .dataframe thead th {\n",
       "        text-align: right;\n",
       "    }\n",
       "</style>\n",
       "<table border=\"1\" class=\"dataframe\">\n",
       "  <thead>\n",
       "    <tr style=\"text-align: right;\">\n",
       "      <th></th>\n",
       "      <th>player_id</th>\n",
       "      <th>assists</th>\n",
       "      <th>goals</th>\n",
       "      <th>shots</th>\n",
       "      <th>primaryPosition</th>\n",
       "      <th>takeaways</th>\n",
       "    </tr>\n",
       "  </thead>\n",
       "  <tbody>\n",
       "    <tr>\n",
       "      <th>1554</th>\n",
       "      <td>8470643</td>\n",
       "      <td>1.0</td>\n",
       "      <td>0.0</td>\n",
       "      <td>1.0</td>\n",
       "      <td>D</td>\n",
       "      <td>NaN</td>\n",
       "    </tr>\n",
       "    <tr>\n",
       "      <th>2508</th>\n",
       "      <td>8476224</td>\n",
       "      <td>1.0</td>\n",
       "      <td>0.0</td>\n",
       "      <td>1.0</td>\n",
       "      <td>D</td>\n",
       "      <td>2.0</td>\n",
       "    </tr>\n",
       "    <tr>\n",
       "      <th>3332</th>\n",
       "      <td>8481486</td>\n",
       "      <td>1.0</td>\n",
       "      <td>0.0</td>\n",
       "      <td>1.0</td>\n",
       "      <td>D</td>\n",
       "      <td>0.0</td>\n",
       "    </tr>\n",
       "  </tbody>\n",
       "</table>\n",
       "</div>"
      ],
      "text/plain": [
       "      player_id  assists  goals  shots primaryPosition  takeaways\n",
       "1554    8470643      1.0    0.0    1.0               D        NaN\n",
       "2508    8476224      1.0    0.0    1.0               D        2.0\n",
       "3332    8481486      1.0    0.0    1.0               D        0.0"
      ]
     },
     "execution_count": 20,
     "metadata": {},
     "output_type": "execute_result"
    }
   ],
   "source": [
    "pm.head()"
   ]
  },
  {
   "cell_type": "code",
   "execution_count": 22,
   "metadata": {},
   "outputs": [
    {
     "data": {
      "image/png": "[encoded data removed]",
      "text/plain": [
       "<Figure size 432x288 with 1 Axes>"
      ]
     },
     "metadata": {
      "needs_background": "light"
     },
     "output_type": "display_data"
    }
   ],
   "source": [
    "assists = [1,1,1]\n",
    "takeaways = [0,2,0]\n",
    "width = 0.3\n",
    "pp =plt.bar(np.arange(len(assists)), assists, width=width, label='Assists')\n",
    "pp =plt.bar(np.arange(len(takeaways))+ width, takeaways, width=width, alpha = .5, color = 'Maroon', label='Takeaways')\n",
    "plt.xticks(np.arange(3), ['8470643', '8476224', '8481486'])\n",
    "plt.title('Average Assists/Takeaways per Game')\n",
    "plt.legend()\n",
    "plt.show()"
   ]
  },
  {
   "cell_type": "code",
   "execution_count": 23,
   "metadata": {},
   "outputs": [
    {
     "name": "stdout",
     "output_type": "stream",
     "text": [
      "player_id    8476224\n",
      "firstName       Chay\n",
      "lastName     Genoway\n",
      "Name: 2055, dtype: object\n"
     ]
    }
   ],
   "source": [
    "player_choice = pi.iloc[2055, :3]\n",
    "print(player_choice)"
   ]
  }
 ],
 "metadata": {
  "kernelspec": {
   "display_name": "Python 3",
   "language": "python",
   "name": "python3"
  },
  "language_info": {
   "codemirror_mode": {
    "name": "ipython",
    "version": 3
   },
   "file_extension": ".py",
   "mimetype": "text/x-python",
   "name": "python",
   "nbconvert_exporter": "python",
   "pygments_lexer": "ipython3",
   "version": "3.8.3"
  }
 },
 "nbformat": 4,
 "nbformat_minor": 4
}
